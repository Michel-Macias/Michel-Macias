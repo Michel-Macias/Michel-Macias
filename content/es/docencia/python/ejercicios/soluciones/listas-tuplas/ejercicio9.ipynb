{
  "nbformat": 4,
  "nbformat_minor": 0,
  "metadata": {
    "kernelspec": {
      "display_name": "Python 3",
      "language": "python",
      "name": "python3"
    },
    "language_info": {
      "codemirror_mode": {
        "name": "ipython",
        "version": 3
      },
      "file_extension": ".py",
      "mimetype": "text/x-python",
      "name": "python",
      "nbconvert_exporter": "python",
      "pygments_lexer": "ipython3",
      "version": "3.7.1"
    },
    "colab": {
      "name": "ejercicio9.ipynb",
      "provenance": [],
      "include_colab_link": true
    }
  },
  "cells": [
    {
      "cell_type": "markdown",
      "metadata": {
        "id": "view-in-github",
        "colab_type": "text"
      },
      "source": [
        "<a href=\"https://colab.research.google.com/github/Michel-Macias/Michel-Macias/blob/main/content/es/docencia/python/ejercicios/soluciones/listas-tuplas/ejercicio9.ipynb\" target=\"_parent\"><img src=\"https://colab.research.google.com/assets/colab-badge.svg\" alt=\"Open In Colab\"/></a>"
      ]
    },
    {
      "cell_type": "markdown",
      "metadata": {
        "id": "wGa2l8Yl_ybm"
      },
      "source": [
        "## Ejercicio\n",
        "\n",
        "Escribir un programa que pida al usuario una palabra y muestre por pantalla el número de veces que contiene cada vocal."
      ]
    },
    {
      "cell_type": "markdown",
      "metadata": {
        "id": "8DSGRqgW_ybm"
      },
      "source": [
        "## Solución"
      ]
    },
    {
      "cell_type": "code",
      "metadata": {
        "id": "BD9axV1K_ybn",
        "outputId": "e34454b8-1caa-4413-a880-1e0ea326a1cc"
      },
      "source": [
        "word = input(\"Introduce una palabra: \")\n",
        "vocals = ['a', 'e', 'i', 'o', 'u']\n",
        "for vocal in vocals: \n",
        "    times = 0\n",
        "    for letter in word: \n",
        "        if letter == vocal:\n",
        "            times += 1\n",
        "    print(\"La vocal \" + vocal + \" aparece \" + str(times) + \" veces\")"
      ],
      "execution_count": null,
      "outputs": [
        {
          "output_type": "stream",
          "text": [
            "Introduce una palabra:  En un lugar de la Mancha\n"
          ],
          "name": "stdin"
        },
        {
          "output_type": "stream",
          "text": [
            "La vocal a aparece 4 veces\n",
            "La vocal e aparece 1 veces\n",
            "La vocal i aparece 0 veces\n",
            "La vocal o aparece 0 veces\n",
            "La vocal u aparece 2 veces\n"
          ],
          "name": "stdout"
        }
      ]
    },
    {
      "cell_type": "code",
      "metadata": {
        "id": "z0am4et7__WS"
      },
      "source": [
        "palabra = input(\"Introduce una palabra: \")\n",
        "vocales = list(\"aeiou\")\n",
        "vocalesContadas = list()\n",
        "listaPalabra = list(palabra)\n",
        "for letra in listaPalabra:\n",
        "    if letra not in vocalesContadas and letra in vocales:\n",
        "        cantVeces = listaPalabra.count(letra)\n",
        "        vocalesContadas.append(letra)\n",
        "        print(\"La letra \", letra, \" aparece \", cantVeces, \" veces\")\n"
      ],
      "execution_count": null,
      "outputs": []
    },
    {
      "cell_type": "markdown",
      "metadata": {
        "id": "nfl_23Z_AK6k"
      },
      "source": [
        "Asi me apañé"
      ]
    }
  ]
}